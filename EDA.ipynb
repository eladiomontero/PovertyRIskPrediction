{
 "cells": [
  {
   "cell_type": "code",
   "execution_count": 1,
   "metadata": {},
   "outputs": [],
   "source": [
    "library(haven)\n",
    "\n",
    "ENAHO_2014 <- read_sav(\".\\\\data\\\\enaho\\\\ENAHO 2014.sav\")\n",
    "ENAHO_2015 <- read_sav(\".\\\\data\\\\enaho\\\\ENAHO 2015.sav\")\n",
    "ENAHO_2016 <- read_sav(\".\\\\data\\\\enaho\\\\ENAHO 2016.sav\")\n",
    "ENAHO_2017 <- read_sav(\".\\\\data\\\\enaho\\\\ENAHO 2017.sav\")"
   ]
  },
  {
   "cell_type": "code",
   "execution_count": 2,
   "metadata": {},
   "outputs": [
    {
     "data": {
      "text/plain": [
       "\n",
       "labelled  numeric \n",
       "     449      124 "
      ]
     },
     "metadata": {},
     "output_type": "display_data"
    }
   ],
   "source": [
    "cop2014 = ENAHO_2014\n",
    "cop2015 = ENAHO_2015\n",
    "cop2016 = ENAHO_2016\n",
    "cop2017 = ENAHO_2017\n",
    "\n",
    "cop2014= cop2014[!is.na(cop2014$np), ]\n",
    "cop2015= cop2015[!is.na(cop2015$np), ]\n",
    "cop2016= cop2016[!is.na(cop2016$np), ]\n",
    "cop2017= cop2017[!is.na(cop2017$np), ]\n",
    "\n",
    "commonVariables = intersect(intersect(intersect(names(cop2014), names(cop2015)), names(cop2016)), names(cop2017))\n",
    "table(sapply(ENAHO_2017, function(col) class(col)))"
   ]
  },
  {
   "cell_type": "code",
   "execution_count": 3,
   "metadata": {},
   "outputs": [],
   "source": [
    "cop2014 = cop2014[,commonVariables]\n",
    "cop2015 = cop2015[,commonVariables]\n",
    "cop2016 = cop2016[,commonVariables]\n",
    "cop2017 = cop2017[,commonVariables]"
   ]
  },
  {
   "cell_type": "code",
   "execution_count": 4,
   "metadata": {},
   "outputs": [
    {
     "name": "stderr",
     "output_type": "stream",
     "text": [
      "\n",
      "Attaching package: 'dplyr'\n",
      "\n",
      "The following objects are masked from 'package:stats':\n",
      "\n",
      "    filter, lag\n",
      "\n",
      "The following objects are masked from 'package:base':\n",
      "\n",
      "    intersect, setdiff, setequal, union\n",
      "\n"
     ]
    }
   ],
   "source": [
    "library(dplyr)\n",
    "#install.packages(\"labelled\")\n",
    "library(labelled)"
   ]
  },
  {
   "cell_type": "code",
   "execution_count": 5,
   "metadata": {},
   "outputs": [],
   "source": [
    "varToNum = c(\"V9\",\"TamHog\",\"A5\")\n",
    "varToCat = c(\"V21A\",\"A3\",\"Escolari\",\"A17\",\"B8\",\"C5B\",\"RamaEmpPri\",\"C11\",\"C16B\",\n",
    "             \"C16C\",\"D4B\",\"D4C\",\"RamaEmpSec\",\"RamaUltEmpCesant\",\"G12\",\n",
    "             \"RamaFuerzaTrab\",\"OcupFuerzaTrab\",\"ActNoMer\")\n",
    "varToZero = c(\"V2A1\",\"V2B\",\"V18A1\",\"A9B\",\"A19B\",\"C2A1\",\"C2A2\",\"C2A3\",\"C2A4\",\n",
    "              \"C2B1\",\"C2B2\",\"C2B3\",\"C2B4\",\"HorNorPri\",\"HorNorSec\",\"HorTotNorm\",\n",
    "              \"HorEfePri\",\"HorEfeSec\",\"HorTotEfe\",\"C10\",\"D13B\",\"D13C1\",\"D13D\",\n",
    "              \"D13E\",\"D14A\",\"D14B\",\"D14C\",\"D14F\",\"D15A\",\"D15B\",\"D15C\",\"D15E\",\n",
    "              \"D16\",\"D17\",\"D17A\",\"E3B\",\"E3C\",\"E5A\",\"E5B\",\"E11B\",\"E12A\",\n",
    "              \"E13A1\",\"E13B1\",\"E13C1\",\"E13D1\",\"E13E1\",\"E14A1\",\"E14B1\",\"E14C1\",\n",
    "              \"E14D1\",\"E15A\",\"E15B\",\"E15B1\",\"F4\",\"F5\",\"F10A\",\"F10C\",\"F11A\",\n",
    "              \"F11B\",\"F13A\",\"F14B\",\"F15B\",\"G3\",\"G4A\",\"G5\",\"H1B\",\"H1D\",\"H1F\",\"H2B\",\n",
    "              \"H2C\",\"H3B\",\"H4B\",\"H5B\",\"H9A1\",\"H9B1\",\"H9C1\",\"H9D1\",\"H9E1\",\"H9F1\",\n",
    "              \"H9G1\",\"H9H1\",\"H9I1\",\"H9K1\",\"H9L1\",\"H9M1\",\"H10C\")\n",
    "\n",
    "varCateg = c(\"ID_HOGAR\",\"ID_VIVIENDA\",\"V13B\",\"V14A1\",\"V14B\",\"V18B1\",\"V18F1\",\"V18G1\",\n",
    "             \"V18I1\",\"V18J1\",\"V18K1\",\"V18L1\",\"V18M1\",\"V19B\",\"V19C\",\"A9C\",\"A12\",\n",
    "             \"A13\",\"A14\",\"A15A\",\"A15B\",\"NivInst\",\"REZ_ESC\",\"ForReg\",\"A16B\",\n",
    "             \"A18A\",\"A18B\",\"A18C\",\"A19A\",\"A19C\",\"A20A\",\"ForNoReg\",\"A21\",\"A22A\",\n",
    "             \"A22B\",\"A23\",\"B1\",\"B2\",\"B3\",\"B4\",\"B5\",\"B6\",\"B7A\",\"B7B\",\"B7C\",\"B7D\",\n",
    "             \"B7E\",\"B7F\",\"B7G\",\"B7H\",\"B7I\",\"B7J\",\"B7K\",\"B7L\",\"CondAct\",\"OcupPrest\",\n",
    "             \"C1\",\"NumEmpl\",\"C3\",\"C4A\",\"C4B\",\"C5A\",\"C6A\",\"C6B\",\"SecInsPri\",\"C7B\",\n",
    "             \"C7C\",\"C7C1\",\"OcupEmpPri\",\"C12\",\"PosiEmpPri\",\"C13A\",\"C13B\",\"C13C\",\"C13D\",\n",
    "             \"C13E\",\"C13F\",\"C13F1\",\"C13G\",\"C14\",\"C15\",\"C16A\",\"C17\",\"Sub40Hor\",\"SubSinHor\",\n",
    "             \"InsLab\",\"Estabili\",\"D1\",\"D2\",\"D3\",\"D4A\",\"D7\",\"D8A\",\"D8B1\",\"D8B2\",\"D8B3\",\"D8B4\",\n",
    "             \"ContProv\",\"D9\",\"D10\",\"D11\",\"D12\",\"D13A\",\"D13C\",\"D14D\",\"D14E\",\"D15A1\",\"D15B1\",\n",
    "             \"D15C1\",\"D15D\",\"D15E1\",\"D19\",\"E1\",\"E2\",\"E3A\",\"E4A\",\"E4B\",\"FlexiHorLab\",\"E6A\",\"E6B\",\n",
    "             \"E6C\",\"E6D\",\"E6E\",\"E6F\",\"E7\",\"E7A\",\"E8A\",\"E8B\",\"E9A\",\"E9B\",\"E9C\",\"E9D\",\n",
    "             \"E9E\",\"E10A\",\"E10B\",\"E10C\",\"E11A\",\"E12B\",\"E12C\",\"E13A\",\"E13B\",\"E13C\",\"E13D\",\"E13E\",\n",
    "             \"E14A\",\"E14A2\",\"E14B\",\"E14B2\",\"E14C\",\"E14C2\",\"E14D\",\"E14D2\",\"E17\",\"SecInsSec\",\n",
    "             \"OcupEmpSec\",\"F4A\",\"F6\",\"F7\",\"PosiEmpSec\",\"F8\",\"F9\",\"F10\",\"F10B\",\"F10B1\",\"F10D\",\n",
    "             \"F11A1\",\"F11B1\",\"F12A\",\"F12B\",\"F12C\",\"F13B\",\"F13C\",\"F14A\",\"F15A\",\"F15B1\",\"G1\",\"G2\",\n",
    "             \"G4B\",\"G4C\",\"G6\",\"SecInsCesa\",\"OcupUltEmpCesant\",\"G10\",\"PosiUltCesa\",\"G11\",\"SecFuerzaTrab\",\n",
    "             \"PosiFuerzaTrab\",\"H1A\",\"H1C\",\"H1E\",\"H2A\",\"H3A\",\"H4A\",\"H5A\",\"H6A\",\"H6B\",\"H6C\",\"H6D\",\"H6E\",\n",
    "             \"H6F\",\"TrabDomNoRem\",\"ActPrimAutCon\",\"OtroActAutCon\",\"ActComVol\",\"RazNoActEco\",\"H9A\",\"H9A2\",\n",
    "             \"H9B\",\"H9B2\",\"H9C\",\"H9C2\",\"H9D\",\"H9D2\",\"H9E\",\"H9E2\",\"H9F\",\"H9F2\",\"H9G\",\"H9G2\",\"H9H\",\"H9H2\",\"H9I\",\n",
    "             \"H9I2\",\"H9K\",\"H9K2\",\"H9L\",\"H9L2\",\"H9M\",\"H9M2\",\"H10A\",\"H10B\",\"H10C1\",\"Q_IPCN\",\"D_IPCN\")"
   ]
  },
  {
   "cell_type": "code",
   "execution_count": 6,
   "metadata": {},
   "outputs": [
    {
     "data": {
      "text/plain": [
       "\n",
       "labelled  numeric \n",
       "     400      116 "
      ]
     },
     "metadata": {},
     "output_type": "display_data"
    }
   ],
   "source": [
    "#NUMERALS\n",
    "cop2014[,varToNum] = lapply(cop2014[,varToNum], function(col) as.numeric(col))\n",
    "cop2015[,varToNum] = lapply(cop2015[,varToNum], function(col) as.numeric(col))\n",
    "cop2016[,varToNum] = lapply(cop2016[,varToNum], function(col) as.numeric(col))\n",
    "cop2017[,varToNum] = lapply(cop2017[,varToNum], function(col) as.numeric(col))\n",
    "    \n",
    "table(sapply(cop2017, function(col) class(col)))"
   ]
  },
  {
   "cell_type": "code",
   "execution_count": 7,
   "metadata": {},
   "outputs": [
    {
     "data": {
      "text/plain": [
       "\n",
       "labelled  numeric \n",
       "     400      116 "
      ]
     },
     "metadata": {},
     "output_type": "display_data"
    }
   ],
   "source": [
    "#CATEGORICAL\n",
    "cop2014[,varToCat] = lapply(cop2014[,varToCat], function(col) replace(col, is.na(col), 9999999999))\n",
    "cop2015[,varToCat] = lapply(cop2015[,varToCat], function(col) replace(col, is.na(col), 9999999999))\n",
    "cop2016[,varToCat] = lapply(cop2016[,varToCat], function(col) replace(col, is.na(col), 9999999999))\n",
    "cop2017[,varToCat] = lapply(cop2017[,varToCat], function(col) replace(col, is.na(col), 9999999999))\n",
    "\n",
    "table(sapply(cop2017, function(col) class(col)))"
   ]
  },
  {
   "cell_type": "code",
   "execution_count": 8,
   "metadata": {},
   "outputs": [
    {
     "data": {
      "text/plain": [
       "\n",
       "labelled  numeric \n",
       "     314      202 "
      ]
     },
     "metadata": {},
     "output_type": "display_data"
    }
   ],
   "source": [
    "#To ZERO AND THEN TO NUM\n",
    "cop2014[,varToZero] = lapply(cop2014[,varToZero], function(col) replace(col, is.na(col), 9999999999))\n",
    "cop2015[,varToZero] = lapply(cop2015[,varToZero], function(col) replace(col, is.na(col), 9999999999))\n",
    "cop2016[,varToZero] = lapply(cop2016[,varToZero], function(col) replace(col, is.na(col), 9999999999))\n",
    "cop2017[,varToZero] = lapply(cop2017[,varToZero], function(col) replace(col, is.na(col), 9999999999))\n",
    "\n",
    "cop2014[,varToZero] = lapply(cop2014[,varToZero], function(col) as.numeric(col))\n",
    "cop2015[,varToZero] = lapply(cop2015[,varToZero], function(col) as.numeric(col))\n",
    "cop2016[,varToZero] = lapply(cop2016[,varToZero], function(col) as.numeric(col))\n",
    "cop2017[,varToZero] = lapply(cop2017[,varToZero], function(col) as.numeric(col))\n",
    "\n",
    "    \n",
    "table(sapply(cop2017, function(col) class(col)))"
   ]
  },
  {
   "cell_type": "code",
   "execution_count": 9,
   "metadata": {},
   "outputs": [],
   "source": [
    "#THE REST OF THE CATEGORICAL VARIABLES\n",
    "\n",
    "cop2014[,varCateg] = lapply(cop2014[,varCateg], function(col) replace(col, is.na(col), 9999999999))\n",
    "cop2015[,varCateg] = lapply(cop2015[,varCateg], function(col) replace(col, is.na(col), 9999999999))\n",
    "cop2016[,varCateg] = lapply(cop2016[,varCateg], function(col) replace(col, is.na(col), 9999999999))\n",
    "cop2017[,varCateg] = lapply(cop2017[,varCateg], function(col) replace(col, is.na(col), 9999999999))"
   ]
  },
  {
   "cell_type": "code",
   "execution_count": 10,
   "metadata": {},
   "outputs": [
    {
     "data": {
      "text/plain": [
       "\n",
       "labelled  numeric \n",
       "     314      202 "
      ]
     },
     "metadata": {},
     "output_type": "display_data"
    }
   ],
   "source": [
    "# OTHER NUMERICAL VARIABLES\n",
    "cop2014[is.na(cop2014$R4B),\"R4B\"] = 0\n",
    "cop2014[is.na(cop2014$D10A),\"D10A\"] = 0\n",
    "cop2014[is.na(cop2014$F8A),\"F8A\"] = 0\n",
    "\n",
    "cop2015[is.na(cop2015$R4B),\"R4B\"] = 0\n",
    "cop2015[is.na(cop2015$D10A),\"D10A\"] = 0\n",
    "cop2015[is.na(cop2015$F8A),\"F8A\"] = 0\n",
    "\n",
    "cop2016[is.na(cop2016$R4B),\"R4B\"] = 0\n",
    "cop2016[is.na(cop2016$D10A),\"D10A\"] = 0\n",
    "cop2016[is.na(cop2016$F8A),\"F8A\"] = 0\n",
    "\n",
    "cop2017[is.na(cop2017$R4B),\"R4B\"] = 0\n",
    "cop2017[is.na(cop2017$D10A),\"D10A\"] = 0\n",
    "cop2017[is.na(cop2017$F8A),\"F8A\"] = 0\n",
    "\n",
    "table(sapply(cop2017, function(col) class(col)))"
   ]
  },
  {
   "cell_type": "code",
   "execution_count": 11,
   "metadata": {},
   "outputs": [
    {
     "data": {
      "text/plain": [
       "\n",
       " factor numeric \n",
       "    314     202 "
      ]
     },
     "metadata": {},
     "output_type": "display_data"
    }
   ],
   "source": [
    "#Labeled to factor\n",
    "cop2014 = cop2014 %>% mutate_if(is.labelled, funs(as.factor(.)))\n",
    "cop2015 = cop2015 %>% mutate_if(is.labelled, funs(as.factor(.)))\n",
    "cop2016 = cop2016 %>% mutate_if(is.labelled, funs(as.factor(.)))\n",
    "cop2017 = cop2017 %>% mutate_if(is.labelled, funs(as.factor(.)))\n",
    "\n",
    "table(sapply(cop2017, function(col) class(col)))"
   ]
  },
  {
   "cell_type": "code",
   "execution_count": 12,
   "metadata": {},
   "outputs": [],
   "source": [
    "cop2014 = cop2014[, sapply(cop2014, function(col) length(levels(col))) != 1]\n",
    "\n",
    "cop2015 = cop2015[, sapply(cop2015, function(col) length(levels(col))) != 1]\n",
    "\n",
    "cop2016 = cop2016[, sapply(cop2016, function(col) length(levels(col))) != 1]\n",
    "\n",
    "cop2017 = cop2017[, sapply(cop2017, function(col) length(levels(col))) != 1]"
   ]
  },
  {
   "cell_type": "code",
   "execution_count": 13,
   "metadata": {},
   "outputs": [
    {
     "data": {
      "text/plain": [
       "\n",
       " factor numeric \n",
       "    314     202 "
      ]
     },
     "metadata": {},
     "output_type": "display_data"
    }
   ],
   "source": [
    "table(sapply(cop2017, function(col) class(col)))"
   ]
  },
  {
   "cell_type": "code",
   "execution_count": 14,
   "metadata": {},
   "outputs": [],
   "source": [
    "library(ggplot2)"
   ]
  },
  {
   "cell_type": "code",
   "execution_count": 15,
   "metadata": {},
   "outputs": [
    {
     "data": {},
     "metadata": {},
     "output_type": "display_data"
    },
    {
     "data": {
      "image/png": "[encoded data removed]",
      "text/plain": [
       "plot without title"
      ]
     },
     "metadata": {},
     "output_type": "display_data",
     "source": "R display func"
    }
   ],
   "source": [
    "ggplot(as.data.frame(prop.table(table(cop2014$REGION, cop2014$np), 2)), aes(x=Var2, y = Freq, fill=Var1)) +\n",
    "     geom_bar(stat=\"identity\") + xlab(\"Nivel de pobreza\") + ylab(\"Region\") + \n",
    "     guides(fill=guide_legend(title=\"Region\"))"
   ]
  },
  {
   "cell_type": "code",
   "execution_count": 16,
   "metadata": {},
   "outputs": [
    {
     "data": {
      "text/html": [
       "<table>\n",
       "<thead><tr><th></th><th scope=col>2014</th><th scope=col>2015</th><th scope=col>2016</th><th scope=col>2017</th></tr></thead>\n",
       "<tbody>\n",
       "\t<tr><th scope=row>1</th><td>0.09149219</td><td>0.08304452</td><td>0.07602513</td><td>0.06611451</td></tr>\n",
       "\t<tr><th scope=row>2</th><td>0.19080646</td><td>0.16256952</td><td>0.16247766</td><td>0.16466799</td></tr>\n",
       "\t<tr><th scope=row>3</th><td>0.71770135</td><td>0.75438596</td><td>0.76149721</td><td>0.76921750</td></tr>\n",
       "</tbody>\n",
       "</table>\n"
      ],
      "text/latex": [
       "\\begin{tabular}{r|llll}\n",
       "  & 2014 & 2015 & 2016 & 2017\\\\\n",
       "\\hline\n",
       "\t1 & 0.09149219 & 0.08304452 & 0.07602513 & 0.06611451\\\\\n",
       "\t2 & 0.19080646 & 0.16256952 & 0.16247766 & 0.16466799\\\\\n",
       "\t3 & 0.71770135 & 0.75438596 & 0.76149721 & 0.76921750\\\\\n",
       "\\end{tabular}\n"
      ],
      "text/markdown": [
       "\n",
       "| <!--/--> | 2014 | 2015 | 2016 | 2017 | \n",
       "|---|---|---|\n",
       "| 1 | 0.09149219 | 0.08304452 | 0.07602513 | 0.06611451 | \n",
       "| 2 | 0.19080646 | 0.16256952 | 0.16247766 | 0.16466799 | \n",
       "| 3 | 0.71770135 | 0.75438596 | 0.76149721 | 0.76921750 | \n",
       "\n",
       "\n"
      ],
      "text/plain": [
       "  2014       2015       2016       2017      \n",
       "1 0.09149219 0.08304452 0.07602513 0.06611451\n",
       "2 0.19080646 0.16256952 0.16247766 0.16466799\n",
       "3 0.71770135 0.75438596 0.76149721 0.76921750"
      ]
     },
     "metadata": {},
     "output_type": "display_data"
    }
   ],
   "source": [
    "povLevelTables = cbind(table(cop2014$np)/nrow(cop2014), table(cop2015$np)/nrow(cop2015), \n",
    "                       table(cop2016$np)/nrow(cop2016), table(cop2017$np)/nrow(cop2017))\n",
    "colnames(povLevelTables) = c(2014,2015,2016,2017)\n",
    "\n",
    "povLevelTables"
   ]
  },
  {
   "cell_type": "code",
   "execution_count": 17,
   "metadata": {},
   "outputs": [],
   "source": [
    "varVivienda = c(\"REGION\",\"ZONA\",\"V1\",\"V2A\",\"V2A1\",\"V2B\",\"V3\",\"V4\",\"V5\",\"V6\",\"V6A\",\"V7A\",\"V7B\",\"V7C\",\"EFI\",\n",
    "                \"CalViv\",\"V8\",\"HacDor\",\"V9\",\"HacApo\",\"V10\",\"V11\",\"V12\",\"V13A\",\"V13B\",\"V14A\",\"V14A1\",\"V14B\",\n",
    "                \"V15\",\"V16\",\"V17A\",\"V17B1\",\"V17B2\",\"V17B3\",\"V17B4\",\"V17B5\",\"V17B6\",\"SerBa\",\"V18A\",\"V18A1\",\n",
    "                \"V18B\",\"V18B1\",\"V18C\",\"V18D\",\"V18E\",\"V18F\",\"V18F1\",\"V18G\",\"V18G1\",\"V18H\",\"V18I\",\"V18I1\",\n",
    "                \"V18J\",\"V18J1\",\"V18K\",\"V18K1\",\"V18L\",\"V18L1\",\"V18M\",\"V18M1\",\"V19\",\n",
    "                \"V19B\",\"V19C\",\"V21\",\"V21A\")\n",
    "\n",
    "varCondRes = c(\"R4A\",\"R4B\",\"R4H1\",\"R4H2\",\"R4H3\",\"R4M1\",\"R4M2\",\"R4M3\",\"R4T1\",\"R4T2\",\"R4T3\",\"TamHog\",\"TamViv\")\n",
    "\n",
    "varCaracSoc = c(\"A3\",\"A4\",\"A5\",\"A6\",\"LugNac\",\"CondMig\",\"RegNac\",\"RegResAnt\",\"A8A\",\"A8B\",\"A9A\",\"A9B\",\"A9C\",\n",
    "                \"A10A\",\"A10B\",\"A11\",\"A12\",\"A13\",\"A14\",\"A15A\",\"A15B\",\"NivInst\",\"Escolari\",\"REZ_ESC\",\n",
    "                \"ForReg\",\"A16B\",\"A17\",\"A18A\",\"A18B\",\"A18C\",\"A19A\",\"A19B\",\"A19C\",\"A20A\",\"ForNoReg\",\n",
    "                \"A21\",\"A22A\",\"A22B\",\"A23\")\n",
    "\n",
    "varCondAct = c(\"B1\",\"B2\",\"B3\",\"B4\",\"B5\",\"B6\",\"B7A\",\"B7B\",\"B7C\",\"B7D\",\"B7E\",\"B7F\",\"B7G\",\"B7H\",\"B7I\",\"B7J\",\n",
    "               \"B7K\",\"B8\",\"CondAct\",\"OcupPrest\")\n",
    "\n",
    "varPerOcup = c(\"C1\",\"NumEmpl\",\"C2A1\",\"C2A2\",\"C2A3\",\"C2A4\",\"C2B1\",\"C2B2\",\"C2B3\",\"C2B4\",\"HorNorPri\",\"HorNorSec\",\n",
    "               \"HorTotNorm\",\"HorEfePri\",\"HorEfeSec\",\"HorTotEfe\",\"C3\",\"C4A\",\"C4B\",\"C5A\",\"C5B\",\"C6A\",\"C6B\",\n",
    "               \"SecInsPri\",\"C7B\",\"C7C\",\"C7C1\",\"RamaEmpPri\",\"OcupEmpPri\",\"C10\",\"C11\",\"C12\",\"PosiEmpPri\",\"C13A\",\n",
    "               \"C13B\",\"C13C\",\"C13D\",\"C13E\",\"C13F\",\"C13F1\",\"C13G\",\"C14\",\"C15\",\"C16A\",\"C16B\",\"C16C\",\"C17\",\n",
    "               \"Sub40Hor\",\"SubSinHor\",\"InsLab\",\"Estabili\")\n",
    "\n",
    "varEmpInd = c(\"D1\",\"D2\",\"D3\",\"D4A\",\"D4B\",\"D4C\",\"D7\",\"D8A\",\"D8B1\",\"D8B2\",\"D8B3\",\"D8B4\",\"ContProv\",\"D9\",\"D10\",\n",
    "              \"D10A\",\"D11\",\"D12\",\"D13A\",\"D13B\",\"D13C\",\"D13C1\",\"D13D\",\"D13E\",\"D14A\",\"D14B\",\"D14C\",\"D14D\",\n",
    "              \"D14E\",\"D14F\",\"D15A\",\"D15A1\",\"D15B\",\"D15B1\",\"D15C\",\"D15C1\",\"D15D\",\"D15E\",\"D15E1\",\"D16\",\"D17\",\"D17A\",\"D19\")\n",
    "\n",
    "varEmpAsa = c(\"E1\",\"E2\",\"E3A\",\"E3B\",\"E3C\",\"E4A\",\"E4B\",\"E5A\",\"E5B\",\"FlexiHorLab\",\"E6A\",\"E6B\",\"E6C\",\"E6D\",\"E6E\",\"E6F\",\"E7\",\n",
    "              \"E7A\",\"E8A\",\"E8B\",\"E9A\",\"E9B\",\"E9C\",\"E9D\",\"E9E\",\"E10A\",\"E10B\",\"E10C\",\"E11A\",\"E11B\",\"E12A\",\"E12B\",\"E12C\",\n",
    "              \"E13A\",\"E13A1\",\"E13B\",\"E13B1\",\"E13C\",\"E13C1\",\"E13D\",\"E13D1\",\"E13E\",\"E13E1\",\"E14A\",\"E14A1\",\"E14A2\",\"E14B\",\n",
    "              \"E14B1\",\"E14B2\",\"E14C\",\"E14C1\",\"E14C2\",\"E14D\",\"E14D1\",\"E14D2\",\"E15A\",\"E15B\",\"E15B1\",\"E17\",\"SecInsSec\",\n",
    "              \"RamaEmpSec\",\"OcupEmpSec\")\n",
    "\n",
    "varEmpSec = c(\"F4\",\"F4A\",\"F5\",\"F6\",\"F7\",\"PosiEmpSec\",\"F8\",\"F8A\",\"F9\",\"F10\",\"F10A\",\"F10B\",\"F10B1\",\"F10C\",\"F10D\",\"F11A\",\n",
    "              \"F11A1\",\"F11B\",\"F11B1\",\"F12A\",\"F12B\",\"F12C\",\"F13A\",\"F13B\",\"F13C\",\"F14A\",\"F14B\",\"F15A\",\"F15B\",\"F15B1\")\n",
    "\n",
    "varPerDes = c(\"G1\",\"G2\",\"G3\",\"G4A\",\"G4B\",\"G4C\",\"G5\",\"G6\",\"SecInsCesa\",\"RamaUltEmpCesant\",\"OcupUltEmpCesant\",\"G10\",\n",
    "              \"PosiUltCesa\",\"G11\",\"G12\",\"SecFuerzaTrab\",\"RamaFuerzaTrab\",\"OcupFuerzaTrab\",\"PosiFuerzaTrab\")\n",
    "\n",
    "varOtrasAct = c(\"H1A\",\"H1B\",\"H1C\",\"H1D\",\"H1E\",\"H1F\",\"H2A\",\"H2B\",\"H2C\",\"H3A\",\"H3B\",\"H4A\",\"H4B\",\"H5A\",\"H5B\",\"H6A\",\"H6B\",\n",
    "                \"H6C\",\"H6D\",\"H6E\",\"H6F\",\"TrabDomNoRem\",\"ActPrimAutCon\",\"OtroActAutCon\",\"ActComVol\",\"ActNoMer\",\"RazNoActEco\",\n",
    "                \"H9A\",\"H9A1\",\"H9A2\",\"H9B\",\"H9B1\",\"H9B2\",\"H9C\",\"H9C1\",\"H9C2\",\"H9D\",\"H9D1\",\"H9D2\",\"H9E\",\"H9E1\",\"H9E2\",\"H9F\",\n",
    "                \"H9F1\",\"H9F2\",\"H9G\",\"H9G1\",\"H9G2\",\"H9H\",\"H9H1\",\"H9H2\",\"H9I\",\"H9I1\",\"H9I2\",\"H9J\",\"H9J1\",\"H9J2\",\"H9K\",\"H9K1\",\n",
    "                \"H9K2\",\"H9L\",\"H9L1\",\"H9L2\",\"H9M\",\"H9M1\",\"H9M2\",\"H10A\",\"H10B\",\"H10C\",\"H10C1\")\n",
    "\n",
    "varVivienda = intersect(varVivienda, names(cop2014))\n",
    "varCaracSoc = intersect(varCaracSoc, names(cop2014))\n",
    "varCondRes = intersect(varCondRes, names(cop2014))\n",
    "varCondAct = intersect(varCondAct, names(cop2014))\n",
    "varPerDes = intersect(varPerDes, names(cop2014))\n",
    "varPerOcup = intersect(varPerOcup, names(cop2014))\n",
    "varOtrasAct = intersect(varOtrasAct, names(cop2014))\n",
    "varEmpAsa = intersect(varEmpAsa, names(cop2014))\n",
    "varEmpInd = intersect(varEmpInd, names(cop2014))\n",
    "varEmpSec = intersect(varEmpSec, names(cop2014))"
   ]
  },
  {
   "cell_type": "code",
   "execution_count": 18,
   "metadata": {},
   "outputs": [
    {
     "name": "stderr",
     "output_type": "stream",
     "text": [
      "\n",
      "Attaching package: 'xgboost'\n",
      "\n",
      "The following object is masked from 'package:dplyr':\n",
      "\n",
      "    slice\n",
      "\n",
      "Loading required package: lattice\n",
      "Loading required package: ParamHelpers\n",
      "Warning message:\n",
      "\"replacing previous import 'BBmisc::isFALSE' by 'backports::isFALSE' when loading 'mlr'\"\n",
      "Attaching package: 'mlr'\n",
      "\n",
      "The following object is masked from 'package:caret':\n",
      "\n",
      "    train\n",
      "\n",
      "\n",
      "Attaching package: 'e1071'\n",
      "\n",
      "The following object is masked from 'package:mlr':\n",
      "\n",
      "    impute\n",
      "\n"
     ]
    }
   ],
   "source": [
    "#install.packages(\"xgboost\")\n",
    "#install.packages(\"mlr\")\n",
    "#install.packages(\"e1071\")\n",
    "library(xgboost)\n",
    "library(caret)\n",
    "library(mlr)\n",
    "library(e1071)\n"
   ]
  },
  {
   "cell_type": "code",
   "execution_count": 19,
   "metadata": {},
   "outputs": [
    {
     "data": {
      "text/html": [
       "514"
      ],
      "text/latex": [
       "514"
      ],
      "text/markdown": [
       "514"
      ],
      "text/plain": [
       "[1] 514"
      ]
     },
     "metadata": {},
     "output_type": "display_data"
    },
    {
     "data": {
      "text/html": [
       "514"
      ],
      "text/latex": [
       "514"
      ],
      "text/markdown": [
       "514"
      ],
      "text/plain": [
       "[1] 514"
      ]
     },
     "metadata": {},
     "output_type": "display_data"
    }
   ],
   "source": [
    "set.seed(12345)\n",
    "a <- createDataPartition(cop2017$np, p = 0.7, list=FALSE)\n",
    "train2017 = cop2017[a,]\n",
    "test2017 = cop2017[-a,]\n",
    "colsLevels = union(names(which(sapply(test2017, function(x) (is.character(x) | is.factor(x)) & length(unique(x))<2))),\n",
    "                   names(which(sapply(train2017, function(x) (is.character(x) | is.factor(x)) & length(unique(x))<2))))\n",
    "train2017 = train2017[, !names(train2017) %in% colsLevels]\n",
    "test2017 = test2017[, !names(test2017) %in% colsLevels]\n",
    "                       \n",
    "length(train2017)\n",
    "length(test2017)"
   ]
  },
  {
   "cell_type": "code",
   "execution_count": 24,
   "metadata": {},
   "outputs": [],
   "source": [
    "learnTune <- function(trainTask, lrn){\n",
    "    set.seed(12345)\n",
    "    lrn$par.vals <- list( objective=\"multi:softprob\", eval_metric=\"mlogloss\", nrounds=50, eta=0.2, missing = \"NAN\", verbose = 0)\n",
    "    params <- makeParamSet(makeDiscreteParam(\"booster\",values = c(\"gbtree\",\"dart\")),\n",
    "                           makeIntegerParam(\"max_depth\",lower = 3L,upper = 10L), \n",
    "                           makeNumericParam(\"min_child_weight\",lower = 1L,upper = 10L), \n",
    "                           makeNumericParam(\"subsample\",lower = 0.5,upper = 1), \n",
    "                           makeNumericParam(\"colsample_bytree\",lower = 0.5,upper = 1))\n",
    "    #ensure that distribution of target class is maintained in the resampled data sets\n",
    "    rdesc <- makeResampleDesc(\"CV\",stratify = T,iters=10L)\n",
    "\n",
    "    # search optimization strategy. build x models with different parameters, and choose the one with the least error\n",
    "    ctrl <- makeTuneControlRandom(maxit = 1L)\n",
    "\n",
    "    mytune <- tuneParams(learner = lrn, task = trainTask, resampling = rdesc, measures = mmce, \n",
    "                         par.set = params, control = ctrl, show.info = F)\n",
    "    return(mytune)\n",
    "}"
   ]
  },
  {
   "cell_type": "code",
   "execution_count": 27,
   "metadata": {},
   "outputs": [],
   "source": [
    "createTask = function(dataset){\n",
    "    trainTask = makeClassifTask(data = dataset[,c(names(dataset)[1:417],\"np\")], target = \"np\")\n",
    "    trainTask <- createDummyFeatures (obj = trainTask)\n",
    "    return(trainTask)\n",
    "}"
   ]
  },
  {
   "cell_type": "code",
   "execution_count": 29,
   "metadata": {},
   "outputs": [
    {
     "data": {
      "text/html": [
       "<dl class=dl-horizontal>\n",
       "\t<dt>1</dt>\n",
       "\t\t<dd>16100</dd>\n",
       "\t<dt>3</dt>\n",
       "\t\t<dd>14461</dd>\n",
       "\t<dt>2</dt>\n",
       "\t\t<dd>16036</dd>\n",
       "</dl>\n"
      ],
      "text/latex": [
       "\\begin{description*}\n",
       "\\item[1] 16100\n",
       "\\item[3] 14461\n",
       "\\item[2] 16036\n",
       "\\end{description*}\n"
      ],
      "text/markdown": [
       "1\n",
       ":   161003\n",
       ":   144612\n",
       ":   16036\n",
       "\n"
      ],
      "text/plain": [
       "    1     3     2 \n",
       "16100 14461 16036 "
      ]
     },
     "metadata": {},
     "output_type": "display_data"
    },
    {
     "data": {
      "text/plain": [
       "Tune result:\n",
       "Op. pars: booster=gbtree; max_depth=10; min_child_weight=1.25; subsample=0.563; colsample_bytree=0.574\n",
       "mmce.test.mean=0.0538"
      ]
     },
     "metadata": {},
     "output_type": "display_data"
    },
    {
     "name": "stderr",
     "output_type": "stream",
     "text": [
      "Warning message in confusionMatrix.default(xgpred$data$response, test2017$np):\n",
      "\"Levels are not in the same order for reference and data. Refactoring data to match.\""
     ]
    },
    {
     "data": {
      "text/plain": [
       "Confusion Matrix and Statistics\n",
       "\n",
       "          Reference\n",
       "Prediction    1    2    3\n",
       "         1  299  351 1178\n",
       "         2  101  466  534\n",
       "         3  289  900 6312\n",
       "\n",
       "Overall Statistics\n",
       "                                          \n",
       "               Accuracy : 0.6785          \n",
       "                 95% CI : (0.6695, 0.6875)\n",
       "    No Information Rate : 0.7693          \n",
       "    P-Value [Acc > NIR] : 1               \n",
       "                                          \n",
       "                  Kappa : 0.2305          \n",
       " Mcnemar's Test P-Value : <2e-16          \n",
       "\n",
       "Statistics by Class:\n",
       "\n",
       "                     Class: 1 Class: 2 Class: 3\n",
       "Sensitivity           0.43396  0.27140   0.7866\n",
       "Specificity           0.84303  0.92712   0.5058\n",
       "Pos Pred Value        0.16357  0.42325   0.8415\n",
       "Neg Pred Value        0.95466  0.86590   0.4155\n",
       "Prevalence            0.06606  0.16462   0.7693\n",
       "Detection Rate        0.02867  0.04468   0.6052\n",
       "Detection Prevalence  0.17526  0.10556   0.7192\n",
       "Balanced Accuracy     0.63850  0.59926   0.6462"
      ]
     },
     "metadata": {},
     "output_type": "display_data"
    }
   ],
   "source": [
    "#Oversampling\n",
    "#install.packages(\"DMwR\")\n",
    "set.seed(12345)\n",
    "library(DMwR)\n",
    "train13 = as.data.frame(subset(train2017, np %in% c(1,3)))\n",
    "train13$np = factor(train13$np)\n",
    "train13 <- SMOTE(np ~ ., train13, perc.over = 900,  perc.under=50)\n",
    "\n",
    "train23 = as.data.frame(subset(train2017, np %in% c(2,3)))\n",
    "train23$np = factor(train23$np)\n",
    "train23 <- SMOTE(np ~ ., train23, perc.over = 300,  perc.under=60)\n",
    "\n",
    "train2017_os = rbind(train13, train23)\n",
    "summary(train2017_os$np)\n",
    "\n",
    "colsLevels = union(names(which(sapply(test2017, function(x) (is.character(x) | is.factor(x)) & length(unique(x))<2))),\n",
    "                   names(which(sapply(train2017_os, function(x) (is.character(x) | is.factor(x)) & length(unique(x))<2))))\n",
    "train2017_os = train2017_os[, !names(train2017_os) %in% colsLevels]\n",
    "train2017_os = train2017_os[, !names(train2017_os) %in% colsLevels]\n",
    "\n",
    "trainTask = suppressWarnings(createTask(train2017_os))\n",
    "testTask <- suppressWarnings(createTask(test2017))\n",
    "\n",
    "lrn <- makeLearner(\"classif.xgboost\",predict.type = \"prob\")\n",
    "mytune = learnTune(trainTask, lrn)     \n",
    "mytune\n",
    "lrn_tune <- setHyperPars(lrn,par.vals = mytune$x)\n",
    "xgmodel <- train(learner = lrn_tune,task = trainTask)\n",
    "xgpred <- predict(xgmodel,testTask)\n",
    "confusionMatrix(xgpred$data$response,test2017$np)"
   ]
  },
  {
   "cell_type": "code",
   "execution_count": 25,
   "metadata": {},
   "outputs": [
    {
     "data": {
      "text/plain": [
       "\n",
       "   1    2    3 \n",
       "1610 1610 1610 "
      ]
     },
     "metadata": {},
     "output_type": "display_data"
    },
    {
     "data": {
      "text/plain": [
       "Tune result:\n",
       "Op. pars: booster=gbtree; max_depth=6; min_child_weight=6.71; subsample=0.874; colsample_bytree=0.738\n",
       "mmce.test.mean=0.293"
      ]
     },
     "metadata": {},
     "output_type": "display_data"
    },
    {
     "data": {
      "text/plain": [
       "Confusion Matrix and Statistics\n",
       "\n",
       "          Reference\n",
       "Prediction   1   2   3\n",
       "         1 327 198 110\n",
       "         2  79 138  75\n",
       "         3 283 353 504\n",
       "\n",
       "Overall Statistics\n",
       "                                          \n",
       "               Accuracy : 0.4688          \n",
       "                 95% CI : (0.4471, 0.4906)\n",
       "    No Information Rate : 0.3333          \n",
       "    P-Value [Acc > NIR] : < 2.2e-16       \n",
       "                                          \n",
       "                  Kappa : 0.2032          \n",
       " Mcnemar's Test P-Value : < 2.2e-16       \n",
       "\n",
       "Statistics by Class:\n",
       "\n",
       "                     Class: 1 Class: 2 Class: 3\n",
       "Sensitivity            0.4746  0.20029   0.7315\n",
       "Specificity            0.7765  0.88824   0.5385\n",
       "Pos Pred Value         0.5150  0.47260   0.4421\n",
       "Neg Pred Value         0.7472  0.68958   0.8004\n",
       "Prevalence             0.3333  0.33333   0.3333\n",
       "Detection Rate         0.1582  0.06676   0.2438\n",
       "Detection Prevalence   0.3072  0.14127   0.5515\n",
       "Balanced Accuracy      0.6255  0.54427   0.6350"
      ]
     },
     "metadata": {},
     "output_type": "display_data"
    }
   ],
   "source": [
    "#Undersampling\n",
    "set.seed(1234)\n",
    "extPoor2017 = subset(cop2017, np == 1)\n",
    "poor2017 = subset(cop2017, np == 2)\n",
    "nonPoor2017 = subset(cop2017, np == 3)\n",
    "sampleNonPoor = nonPoor2017[sample(1:nrow(nonPoor2017), nrow(extPoor2017)),]\n",
    "samplePoor = poor2017[sample(1:nrow(poor2017), nrow(extPoor2017)),]\n",
    "\n",
    "us2017 = rbind(extPoor2017, samplePoor, sampleNonPoor)\n",
    "a <- createDataPartition(us2017$np, p = 0.7, list=FALSE)\n",
    "train2017_us = us2017[a,]\n",
    "test2017_us = us2017[-a,]\n",
    "table(train2017_us$np)\n",
    "colsLevels = union(names(which(sapply(test2017_us, function(x) (is.character(x) | is.factor(x)) & length(unique(x))<2))),\n",
    "                   names(which(sapply(train2017_us, function(x) (is.character(x) | is.factor(x)) & length(unique(x))<2))))\n",
    "train2017_us = train2017_us[, !names(train2017_us) %in% colsLevels]\n",
    "test2017_us = test2017_us[, !names(test2017_us) %in% colsLevels]\n",
    "\n",
    "trainTask = suppressWarnings(createTask(train2017_us))\n",
    "testTask <- suppressWarnings(createTask(test2017_us))\n",
    "lrn <- makeLearner(\"classif.xgboost\",predict.type = \"prob\")\n",
    "mytune = learnTune(trainTask, lrn)   \n",
    "mytune\n",
    "lrn_tune <- setHyperPars(lrn,par.vals = mytune$x)\n",
    "xgmodel <- train(learner = lrn_tune,task = trainTask)\n",
    "xgpred <- predict(xgmodel,testTask)\n",
    "confusionMatrix(xgpred$data$response,test2017_us$np)"
   ]
  },
  {
   "cell_type": "code",
   "execution_count": 28,
   "metadata": {},
   "outputs": [
    {
     "name": "stderr",
     "output_type": "stream",
     "text": [
      "Warning message in makeTask(type = type, data = data, weights = weights, blocking = blocking, :\n",
      "\"Empty factor levels were dropped for columns: REZ_ESC,A19C\"Warning message in makeTask(type = type, data = data, weights = weights, blocking = blocking, :\n",
      "\"Provided data is not a pure data.frame but from class tbl_df, hence it will be converted.\"Warning message in makeTask(type = type, data = data, weights = weights, blocking = blocking, :\n",
      "\"Empty factor levels were dropped for columns: V18I1,V18K1,V18M1,A14,A19C,B7K,B8,SecInsPri,C7C1,RamaEmpPri,C13F,C14,C15,C16B,C16C,D4C,D15E1,E12C,E14A2,E14D2,RamaEmpSec,F10D,F11B1,F15A,F15B1,SecInsCesa,RamaUltEmpCesant,OcupUltEmpCesant,G12,RamaFuerzaTrab,ActNoMer,H9B2,H9C2,H9D2,H9F2,H9G2,H9I2,H9K2,H9M2,H10C1\"Warning message in makeTask(type = type, data = data, weights = weights, blocking = blocking, :\n",
      "\"Provided data is not a pure data.frame but from class tbl_df, hence it will be converted.\""
     ]
    },
    {
     "data": {
      "text/plain": [
       "Supervised task: test2017\n",
       "Type: classif\n",
       "Target: np\n",
       "Observations: 10430\n",
       "Features:\n",
       "numerics  factors  ordered \n",
       "    1960        0        0 \n",
       "Missings: TRUE\n",
       "Has weights: FALSE\n",
       "Has blocking: FALSE\n",
       "Classes: 3\n",
       "   1    2    3 \n",
       " 689 1717 8024 \n",
       "Positive class: NA"
      ]
     },
     "metadata": {},
     "output_type": "display_data"
    }
   ],
   "source": [
    "trainTask = makeClassifTask(data = train2017[,c(varCondRes, varCaracSoc, varCondAct,\"np\")], target = \"np\")\n",
    "testTask = makeClassifTask(data = test2017, target = \"np\")\n",
    "\n",
    "trainTask <- createDummyFeatures (obj = trainTask)\n",
    "testTask <- createDummyFeatures (obj = testTask)\n",
    "testTask"
   ]
  },
  {
   "cell_type": "code",
   "execution_count": 118,
   "metadata": {},
   "outputs": [
    {
     "data": {
      "text/plain": [
       "Confusion Matrix and Statistics\n",
       "\n",
       "          Reference\n",
       "Prediction    1    2    3\n",
       "         1    0    0    0\n",
       "         2   71  199  118\n",
       "         3  618 1518  571\n",
       "\n",
       "Overall Statistics\n",
       "                                          \n",
       "               Accuracy : 0.2488          \n",
       "                 95% CI : (0.2336, 0.2644)\n",
       "    No Information Rate : 0.5548          \n",
       "    P-Value [Acc > NIR] : 1               \n",
       "                                          \n",
       "                  Kappa : -0.021          \n",
       " Mcnemar's Test P-Value : <2e-16          \n",
       "\n",
       "Statistics by Class:\n",
       "\n",
       "                     Class: 1 Class: 2 Class: 3\n",
       "Sensitivity            0.0000   0.1159   0.8287\n",
       "Specificity            1.0000   0.8628   0.1122\n",
       "Pos Pred Value            NaN   0.5129   0.2109\n",
       "Neg Pred Value         0.7774   0.4392   0.6959\n",
       "Prevalence             0.2226   0.5548   0.2226\n",
       "Detection Rate         0.0000   0.0643   0.1845\n",
       "Detection Prevalence   0.0000   0.1254   0.8746\n",
       "Balanced Accuracy      0.5000   0.4894   0.4705"
      ]
     },
     "metadata": {},
     "output_type": "display_data"
    }
   ],
   "source": []
  },
  {
   "cell_type": "code",
   "execution_count": 76,
   "metadata": {},
   "outputs": [
    {
     "ename": "ERROR",
     "evalue": "Error: package or namespace load failed for 'rJava':\n .onLoad failed in loadNamespace() for 'rJava', details:\n  call: inDL(x, as.logical(local), as.logical(now), ...)\n  error: unable to load shared object 'C:/Users/eladi/Anaconda2/Lib/R/library/rJava/libs/x64/rJava.dll':\n  LoadLibrary failure:  The specified module could not be found.\n\n",
     "execution_count": 76,
     "output_type": "error",
     "traceback": [
      "Error: package or namespace load failed for 'rJava':\n .onLoad failed in loadNamespace() for 'rJava', details:\n  call: inDL(x, as.logical(local), as.logical(now), ...)\n  error: unable to load shared object 'C:/Users/eladi/Anaconda2/Lib/R/library/rJava/libs/x64/rJava.dll':\n  LoadLibrary failure:  The specified module could not be found.\n\nTraceback:\n",
      "1. library(rJava)",
      "2. tryCatch({\n .     attr(package, \"LibPath\") <- which.lib.loc\n .     ns <- loadNamespace(package, lib.loc)\n .     env <- attachNamespace(ns, pos = pos, deps)\n . }, error = function(e) {\n .     P <- if (!is.null(cc <- conditionCall(e))) \n .         paste(\" in\", deparse(cc)[1L])\n .     else \"\"\n .     msg <- gettextf(\"package or namespace load failed for %s%s:\\n %s\", \n .         sQuote(package), P, conditionMessage(e))\n .     if (logical.return) \n .         message(paste(\"Error:\", msg), domain = NA)\n .     else stop(msg, call. = FALSE, domain = NA)\n . })",
      "3. tryCatchList(expr, classes, parentenv, handlers)",
      "4. tryCatchOne(expr, names, parentenv, handlers[[1L]])",
      "5. value[[3L]](cond)",
      "6. stop(msg, call. = FALSE, domain = NA)"
     ]
    }
   ],
   "source": []
  },
  {
   "cell_type": "code",
   "execution_count": null,
   "metadata": {},
   "outputs": [],
   "source": []
  }
 ],
 "metadata": {
  "kernelspec": {
   "display_name": "R",
   "language": "R",
   "name": "ir"
  },
  "language_info": {
   "codemirror_mode": "r",
   "file_extension": ".r",
   "mimetype": "text/x-r-source",
   "name": "R",
   "pygments_lexer": "r",
   "version": "3.4.3"
  }
 },
 "nbformat": 4,
 "nbformat_minor": 2
}
